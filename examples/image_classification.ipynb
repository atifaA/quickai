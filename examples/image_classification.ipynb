{
 "cells": [
  {
   "cell_type": "markdown",
   "id": "76b6b459-cfe5-455f-9e53-3c0f84631018",
   "metadata": {},
   "source": [
    "[![Open In Colab](https://colab.research.google.com/assets/colab-badge.svg)](https://colab.research.google.com/github/weiji14/deepbedmap)"
   ]
  },
  {
   "cell_type": "code",
   "execution_count": null,
   "id": "6fa5605a-ac85-4695-b554-9c5cf697f806",
   "metadata": {},
   "outputs": [],
   "source": [
    "from quickai import ImageClassification"
   ]
  },
  {
   "cell_type": "code",
   "execution_count": null,
   "id": "e9701f66-8b35-4842-b4fa-721f0f6b8472",
   "metadata": {},
   "outputs": [],
   "source": [
    "ImageClassification(\"vgg16\", \"./train\", \"cars\",)"
   ]
  }
 ],
 "metadata": {
  "kernelspec": {
   "display_name": "Python 3",
   "language": "python",
   "name": "python3"
  },
  "language_info": {
   "codemirror_mode": {
    "name": "ipython",
    "version": 3
   },
   "file_extension": ".py",
   "mimetype": "text/x-python",
   "name": "python",
   "nbconvert_exporter": "python",
   "pygments_lexer": "ipython3",
   "version": "3.7.9"
  }
 },
 "nbformat": 4,
 "nbformat_minor": 5
}
